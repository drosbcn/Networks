{
 "cells": [
  {
   "cell_type": "markdown",
   "metadata": {},
   "source": [
    "# Social and Economic Networks | problem set 3"
   ]
  },
  {
   "cell_type": "markdown",
   "metadata": {},
   "source": [
    "### Problem 1\n"
   ]
  },
  {
   "cell_type": "markdown",
   "metadata": {},
   "source": [
    "#### A. \n",
    "\n",
    "In order to find a network that is efficient and isn't fully-connected, emtpy or star-like, it needs to satisfy \n",
    "3 conditions: \n",
    "\n",
    "1. If we take a fully connected graph with the condition that one of the nodes (node n), linking to the rest of the nodes (N-1) has utility of $u_n + \\sum_{i=1}^{n-1} u_i$.\n",
    "After differention we get: \n",
    "$$\n",
    "\\Delta u_n = (N-1) \\delta - (N-1) c_n\n",
    "\\Delta u_{i<n} = \\delta - c_i\n",
    "$$\n",
    "Hence, if we impose $2(N-1) \\delta < (N-1)c_n + \\sum_{i<n} c_i$ the complete graph would not be efficient. \n",
    "\n",
    "2. Utility of adding a link $ij$ to an empty graph of two nodes would be $2\\delta - c_{i,j} - c_{j,i}$. Given that $c_{i,j} = c_i$ $\\forall i$ we can impose the following conditoin $c_i + c_j < 2\\delta$ for at least two given nodes $i,j$, to make an empty network non-efficient.\n",
    "\n",
    "3. Third point considers conditions required for inefficient star networks. These are: \n",
    "$$\n",
    "2(N-1)\\delta - (N-1) c_i - \\sum_{z \\neq i} c_z > 0\n",
    "2(N-1)\\delta - (N-1) c_j - \\sum_{z \\neq j} c_z > 0\n",
    "$$\n",
    "\n",
    "If all the conditions mentioned above are fullfiled, the network is guaranteed to be efficient if the "
   ]
  },
  {
   "cell_type": "markdown",
   "metadata": {},
   "source": [
    "#### B.\n",
    "We can define the terms effient and stable graph as following: \n",
    "\n",
    "Efficient graph:\n",
    "An efficient graph is any graph having one node connected to all remaining 3 and the other nodes having only one single link. Therefore the efficient graph is a star. The total utility of the network is 20.\n",
    "\n",
    "The stable graph: \n",
    "the stable graph is a fully connected graph. To see why, with basic algebra we can prove that the cost of removing an edge for a given individual node  ii  from a fully connected graph is always negative, in particular is  −1/3−1/3 . Therefore the network is stable. In addition, consider a process where at each step we add a new edge between two nodes if and only if the utility of both nodes increase. It can be trivially showed that this process always converge to a fully connected graph."
   ]
  },
  {
   "cell_type": "markdown",
   "metadata": {},
   "source": [
    "### Problem 2 "
   ]
  },
  {
   "cell_type": "markdown",
   "metadata": {},
   "source": [
    "#### 1.  \n",
    "\n",
    "a) In the general case of information cascades, even though individuals see the actions of previous players, individual 1 sees no previous action (because he is first to play) and individual 2 only sees the action of individual 1. In the case where individual $i$ sees only the action of individual $i-1$, this remains unchanged for individual 1 (who has no individual before him) and individual 2 (who still only sees the action of individual 1).\n",
    "\n",
    "b) Individual 3 can infer that if individual 2 accepts, then 2's signal was High, and if he rejects, it is because the signal was Low. This is because even though 3 does not see the action of 1, he knows that individual 2 will either:\n",
    "\n",
    "* See a signal consistent with the action of individual 1, in which case it means signals of 1 and 2 point in the same direction, and individual 2 goes with a majority vote.\n",
    "* See a signal different to individual 1, in which case there is a tie between Accept and Reject. In those cases, individual 2 breaks the tie by following his own signal.\n",
    "\n",
    "Either way, individual 3 knows that individual 2 takes an action consistent with his own signal.\n",
    "\n",
    "c) Individual 3 cannot infer anything about individual 1's signal, however. Since individual 2 takes an action consistent with his own signal, the behaviour of individual 1 (and the signal of individual 1) has no impact on the behaviour of 2. This is why individual 3 cannot infer anything about individual 1's signal.\n",
    "\n",
    "d) If 3 observes High and 2 Accepted, then 3 should also Accept. If 3's signal is Low and 2 Accepted, then there is a tie between Accept and Reject, which 3 will break by following his own signal, and will Reject. In other words, the behaviour (and signal) of 2 has no impact on the behaviour of 3.\n",
    "\n",
    "e) No cascade will form in this scenario because we can never get a critical mass of at least 2 actions going in the same direction (as far as subsequent players can tell). Each player only has 1 other player's action information, which is not enough to change his own actions. In this world, each individual follows his own signal and not information cascade is possible."
   ]
  },
  {
   "cell_type": "markdown",
   "metadata": {},
   "source": [
    "#### 4. \n",
    "\n",
    "In this problem, we have: \n",
    "\n",
    "* $P(true = G) = p = \\frac{1}{2}$\n",
    "* $P(true = B) = 1 - p = \\frac{1}{2}$\n",
    "* $P(signal = H | true = G) = q = \\frac{2}{3}$\n",
    "* $P(signal = H | true = B) = 1 - q = \\frac{1}{3}$\n",
    "* $P(signal = L | true = B) = q = \\frac{2}{3}$\n",
    "* $P(signal = L | true = G) = 1 - q = \\frac{1}{3}$\n",
    "\n",
    "a) An cascade will ocurr if the first two individuals choose the same action, which will ocurr if they observe the same action. The signals of the subsequent individuals, in this case, are irrelevant since all individiduals choose the same actions irrelevant of which signal their observe for themselves.\n",
    "\n",
    "As such, the probability of an incorrect cascade after 9 people, is the same as the probability of the true state being Good (G), given the first two signals being Low (L):\n",
    "\n",
    "$$P(true = G | L, L) = \\frac{P(G).P(L, L | true = G)}{P(L, L)}$$\n",
    "\n",
    "Where $P(L, L | true = G) = \\frac{1}{3}.\\frac{1}{3}.\\frac{1}{2} = \\frac{1}{18}$,\n",
    "$P(L, L) = \\frac{1}{4}$,\n",
    "and $P(true = G) = p = \\frac{1}{2}$\n",
    "\n",
    "$$P(true = G | L, L) = \\frac{\\frac{1}{2}.\\frac{1}{18}}{\\frac{1}{4}} = \\frac{1}{9}$$\n",
    "\n",
    "So the likelihood of being in an incorrect cascade is $\\frac{1}{9}$.\n",
    "\n",
    "b) If person 9 received a High signal, then we know for certain that there have been two Low signals (for persons 1 and 2), and one High signal (for person 9). Thus your decision depends on your own signal: if Low, we know there have been 3 Lows and one High, so on average Low dominates and we choose Reject. If High, then there is a tie (2 Lows and 2 Highs), and we break the tie by following our own signal, which is High.\n",
    "\n",
    "In summary, our choice depends on our own signal.\n",
    "\n",
    "c) If we choose R, it will be because we get a Low signal. Although person 11 does not know the signal of person 9, it is enough to know that persons 1 and 2 had Low signals, and person 10 as well. As such, there is a clear majority of Low, and even if person 11 gets a High signal, they will choose Reject.\n",
    "\n",
    "If we choose A, then it must necessarily be because both we (person 10) and person 9 got High signals, since this is the only way in which we could choose Accept. Person 11 can infer that, and so knows that there have for sure been 2 Low signals (persons 1 and 2) and 2 High signals (persons 9 and 10). His choice will thus depend on his own signal: A if they observe High, R if they observe L."
   ]
  },
  {
   "cell_type": "markdown",
   "metadata": {},
   "source": [
    "### Problem 3 "
   ]
  },
  {
   "cell_type": "markdown",
   "metadata": {},
   "source": [
    "Understanding network structure is an active and ongoing challenge in the field of network science. Because networks are often comprised of millions of nodes topological measures, computer algorithms, and statistics are used to reveal insight into the ways in which networks are structured. The detection of subgroups or communities—which are often considered the building blocks of a network—is the primary method used for understanding the underlying structure of a network. This focus has spurred a growing field of algorithmic development, the aim of which is to detect such communities within networks. Leicht and Newman in “Mixture models and exploratory analysis in networks” provide a good overview of methods used to discern network structures. While the use of statistics to quantify network features—like clustering coefficients and centrality indices— yield important insight, the authors challenge these more traditional methods since they rely on assumptions regarding the structure. Thus, they propose an exploratory structural analysis of network data that incorporates various types of structure detection like standard assortative (homophily) and disassortative structures without limiting it to one or two structural types. A mixed model is used for the various groups and properties of network and an expectation–maximization algorithm is used to then tune the parameters of the model so that the best fit can be found in the observed network. \n",
    " \n",
    "In another paper called \"Community structure in directed networks”, the same authors point out, however, that most algorithms used in community detection fail to take into account directed graphs, the results of which may include a loss of information regarding important network properties. The authors address this by expanding on the method of modularity optimization such that the model is reconfigured to account for the probability of the direction of an edge. In other words, while modularity optimization greedily finds divisions of a network in which there are more edges within communities than expected on the basis of chance, Leicht and Newman’s algorithm assigns an additional value to the model that takes into account directed edges that deviate from their estimations. Generally, the algorithm works by first dividing the network into two groups and then iteratively dividing those groups into additional groups until a point at which further division does not increase the total modularity of the network. They go on to show the computational efficiency and effectiveness of this algorithm on both real-network and computer-generated data. \n",
    " \n",
    "Finally, Fortunato in “Community detection in graphs” provides an in-depth overview of the topic—a seemingly blueprint for analyzing graphs. Supporting the method by which community detection is used to understand the overall network structure, Fortunato points out that a few structural things should be addressed before. First, because the definition of ‘community’ is vague and diverse across disciplines, grounding the definition of community—locally or globally—is an important preliminary step. Second, a graph must be sparse in order for a community to be detected. If there are more edges than nodes, then it’s likely that the distribution of the edges is too homogenous for finding communities, in which case the author suggests using clustering methods like hierarchical clustering. \n",
    " \n",
    "Fortunato then breaks down traditional and contemporary community detection approaches into 5 general categories: traditional, divisive, algorithmic, modularity-based and statistical inference-based. Traditional methods include spectral (focusing on eigenvalues and using a similarity matrix to prune a network), hierarchical (organizing graphs based on their hierarchical structures) and partitional clustering (turning nodes into points and using various calculations of distance to ascribe (dis)similarity). Divisive methods find communities by severing bridges (the edges that connect subgroups), for which there are two main approaches: severing based on edge betweenness (Girvan and Newman) or edge centrality. Fortunato also discusses the popularity of using modularity (a global criterion) to detect communities, which partitions communities if the number of edges inside the partition is larger than the expected number of internal edges that the same partition would in a random graph (e.g null model). A community can also be defined through vertex similarity, a method by which similarity between each pair of nodes (regardless if they share an edge) is computed. Similar nodes are then grouped together. Finally, statistical (Bayesian) inference is used of which the author address four prominent methods: generative models (maximizing the likelihood that a model is consistent with the real graph given a set of parameters), model selection (finding simple model that best explains the system given some set of heuristics), information theory (optimizing the compression of information needed to describe the process of information diffusion throughout a graph) and blackmodeling (simplifying a graph by decomposing it into classes of vertices and then measuring various equivalent features). Overall, it would seem that the field has branched out from clustering techniques to techniques that approximate and optimize.\n",
    " \n",
    " \n",
    "Fortunato, Santo. \"Community detection in graphs.\" Physics reports 486.3 (2010): 75-174.\n",
    " \n",
    "Leicht, Elizabeth A., and Mark EJ Newman. \"Community structure in directed networks.\" Physical review letters 100.11 (2008): 118703.\n",
    " \n",
    "Newman, Mark EJ, and Elizabeth A. Leicht. \"Mixture models and exploratory analysis in networks.\" Proceedings of the National Academy of Sciences 104.23 (2007): 9564-9569.\n",
    " \n",
    " \n",
    "Other literature to consider: \n",
    " \n",
    "Backstrom, Lars, et al. \"Group formation in large social networks: membership, growth, and evolution.\" Proceedings of the 12th ACM SIGKDD international conference on Knowledge discovery and data mining. ACM, 2006.\n",
    " \n",
    "Cowan, Robin, and Nicolas Jonard. \"Network structure and the diffusion of knowledge.\" Journal of economic Dynamics and Control 28.8 (2004): 1557-1575.\n",
    " \n",
    "Schult, Daniel A., and P. Swart. \"Exploring network structure, dynamics, and function using NetworkX.\" Proceedings of the 7th Python in Science Conferences (SciPy 2008). Vol. 2008. 2008."
   ]
  },
  {
   "cell_type": "code",
   "execution_count": null,
   "metadata": {
    "collapsed": true
   },
   "outputs": [],
   "source": []
  }
 ],
 "metadata": {
  "anaconda-cloud": {},
  "kernelspec": {
   "display_name": "Python 2",
   "language": "python",
   "name": "python2"
  },
  "language_info": {
   "codemirror_mode": {
    "name": "ipython",
    "version": 2
   },
   "file_extension": ".py",
   "mimetype": "text/x-python",
   "name": "python",
   "nbconvert_exporter": "python",
   "pygments_lexer": "ipython2",
   "version": "2.7.12"
  }
 },
 "nbformat": 4,
 "nbformat_minor": 2
}
