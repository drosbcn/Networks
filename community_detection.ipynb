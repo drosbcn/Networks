{
 "cells": [
  {
   "cell_type": "code",
   "execution_count": null,
   "metadata": {
    "collapsed": true
   },
   "outputs": [],
   "source": [
    "import pandas as pd\n",
    "import numpy as np\n",
    "import matplotlib.pyplot as plt\n",
    "import networkx as nx\n",
    "from graphviz import Digraph\n",
    "\n",
    "from collections import defaultdict\n",
    "import networkx as nx\n",
    "import numpy\n",
    "from scipy.cluster import hierarchy\n",
    "from scipy.spatial import distance\n",
    "import matplotlib.pyplot as plt\n"
   ]
  },
  {
   "cell_type": "code",
   "execution_count": null,
   "metadata": {
    "collapsed": true
   },
   "outputs": [],
   "source": [
    "def girvan_newman(G, most_valuable_edge=None):\n",
    "# If the graph is already empty, simply return its connected\n",
    "    # components.\n",
    "    if G.number_of_edges() == 0:\n",
    "        yield tuple(nx.connected_components(G))\n",
    "        return\n",
    "    # If no function is provided for computing the most valuable edge,\n",
    "    # use the edge betweenness centrality.\n",
    "    if most_valuable_edge is None:\n",
    "        def most_valuable_edge(G):\n",
    "            \"\"\"Returns the edge with the highest betweenness centrality\n",
    "            in the graph `G`.\n",
    "\n",
    "            \"\"\"\n",
    "            # We have guaranteed that the graph is non-empty, so this\n",
    "            # dictionary will never be empty.\n",
    "            betweenness = nx.edge_betweenness_centrality(G)\n",
    "            return max(betweenness, key=betweenness.get)\n",
    "    # The copy of G here must include the edge weight data.\n",
    "    g = G.copy().to_undirected()\n",
    "    # Self-loops must be removed because their removal has no effect on\n",
    "    # the connected components of the graph.\n",
    "    g.remove_edges_from(g.selfloop_edges())\n",
    "    while g.number_of_edges() > 20:\n",
    "        yield _without_most_central_edges(g, most_valuable_edge)\n",
    "        \n",
    "def _without_most_central_edges(G, most_valuable_edge):\n",
    "    original_num_components = nx.number_connected_components(G)\n",
    "    num_new_components = original_num_components\n",
    "    while num_new_components <= original_num_components:\n",
    "        edge = most_valuable_edge(G)\n",
    "        G.remove_edge(*edge)\n",
    "        new_components = tuple(nx.connected_components(G))\n",
    "        num_new_components = len(new_components)\n",
    "    return new_components"
   ]
  },
  {
   "cell_type": "code",
   "execution_count": null,
   "metadata": {
    "collapsed": true
   },
   "outputs": [],
   "source": [
    "def create_hc(G):\n",
    "    \"\"\"Creates hierarchical cluster of graph G from distance matrix\"\"\"\n",
    "    path_length=nx.all_pairs_shortest_path_length(G)\n",
    "    distances=numpy.zeros((len(G),len(G)))\n",
    "    for u,p in path_length.items():\n",
    "        for v,d in p.items():\n",
    "            distances[u][v]=d\n",
    "    # Create hierarchical cluster\n",
    "    Y=distance.squareform(distances)\n",
    "    Z=hierarchy.complete(Y)  # Creates HC using farthest point linkage\n",
    "    # This partition selection is arbitrary, for illustrive purposes\n",
    "    membership=list(hierarchy.fcluster(Z,t=1.15))\n",
    "    # Create collection of lists for blockmodel\n",
    "    partition=defaultdict(list)\n",
    "    for n,p in zip(list(range(len(G))),membership):\n",
    "        partition[p].append(n)\n",
    "    return list(partition.values())\n",
    "\n",
    "if __name__ == '__main__':\n",
    "    G=nx.read_edgelist(\"hartford_drug.edgelist\")\n",
    "\n",
    "    # Extract largest connected component into graph H\n",
    "    H=nx.connected_component_subgraphs(G)[0]\n",
    "    # Makes life easier to have consecutively labeled integer nodes\n",
    "    H=nx.convert_node_labels_to_integers(H)\n",
    "    # Create parititions with hierarchical clustering\n",
    "    partitions=create_hc(H)\n",
    "    # Build blockmodel graph\n",
    "    BM=nx.blockmodel(H,partitions)\n",
    "\n",
    "\n",
    "    # Draw original graph\n",
    "    pos=nx.spring_layout(H,iterations=100)\n",
    "    fig=plt.figure(1,figsize=(6,10))\n",
    "    ax=fig.add_subplot(211)\n",
    "    nx.draw(H,pos,with_labels=False,node_size=10)\n",
    "    plt.xlim(0,1)\n",
    "    plt.ylim(0,1)\n",
    "\n",
    "    # Draw block model with weighted edges and nodes sized by number of internal nodes\n",
    "    node_size=[BM.node[x]['nnodes']*10 for x in BM.nodes()]\n",
    "    edge_width=[(2*d['weight']) for (u,v,d) in BM.edges(data=True)]\n",
    "    # Set positions to mean of positions of internal nodes from original graph\n",
    "    posBM={}\n",
    "    for n in BM:\n",
    "        xy=numpy.array([pos[u] for u in BM.node[n]['graph']])\n",
    "        posBM[n]=xy.mean(axis=0)\n",
    "    ax=fig.add_subplot(212)\n",
    "    nx.draw(BM,posBM,node_size=node_size,width=edge_width,with_labels=False)\n",
    "    plt.xlim(0,1)\n",
    "    plt.ylim(0,1)\n",
    "    plt.axis('off')\n",
    "    plt.show()"
   ]
  }
 ],
 "metadata": {
  "kernelspec": {
   "display_name": "Python 2",
   "language": "python",
   "name": "python2"
  },
  "language_info": {
   "codemirror_mode": {
    "name": "ipython",
    "version": 2
   },
   "file_extension": ".py",
   "mimetype": "text/x-python",
   "name": "python",
   "nbconvert_exporter": "python",
   "pygments_lexer": "ipython2",
   "version": "2.7.12"
  }
 },
 "nbformat": 4,
 "nbformat_minor": 2
}
