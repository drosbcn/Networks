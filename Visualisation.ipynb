{
 "cells": [
  {
   "cell_type": "code",
   "execution_count": null,
   "metadata": {
    "collapsed": true
   },
   "outputs": [],
   "source": [
    "import pandas as pd\n",
    "import numpy as np\n",
    "import matplotlib.pyplot as plt\n",
    "import networkx as nx\n",
    "from graphviz import Digraph\n",
    "\n",
    "file = \"ICIO_data/ICIO2016_2011.csv\" \n",
    "\n",
    "input_output = pd.read_csv(\"ICIO_data/ICIO2016_2011.csv\", index_col = [0,1], header = [0,1])\n",
    "\n",
    "def normalize(df):\n",
    "    result = df.copy()\n",
    "    for feature_name in df.columns:\n",
    "        total = df[feature_name].sum()\n",
    "        if total == 0:\n",
    "            result = result.drop(feature_name,1)\n",
    "            result = result.drop(feature_name,0)\n",
    "        else: \n",
    "            result[feature_name] = df[feature_name] / total\n",
    "    return result \n",
    "\n",
    "input_output_norm = normalize(input_output)\n",
    "input_output_norm[input_output_norm<0.05] = 0\n",
    "\n",
    "input_output_matrix = input_output_norm.as_matrix()\n",
    "G = nx.from_numpy_matrix(input_output_matrix)"
   ]
  },
  {
   "cell_type": "code",
   "execution_count": null,
   "metadata": {
    "collapsed": true
   },
   "outputs": [],
   "source": [
    "#make a filter for several countries\n",
    "smpl_cntrs = ['FRA','GBR']\n",
    "index_sample = input_output_norm.loc[smpl_cntrs]\n",
    "col_idx_sample = index_sample[smpl_cntrs]"
   ]
  },
  {
   "cell_type": "code",
   "execution_count": null,
   "metadata": {
    "collapsed": true
   },
   "outputs": [],
   "source": [
    "sample_matrix = col_idx_sample.as_matrix()\n",
    "\n",
    "G = nx.from_numpy_matrix(sample_matrix)\n",
    "plt.figure(figsize = (120,120))\n",
    "nx.draw(G)\n",
    "plt.show()"
   ]
  },
  {
   "cell_type": "code",
   "execution_count": null,
   "metadata": {
    "collapsed": true
   },
   "outputs": [],
   "source": []
  },
  {
   "cell_type": "code",
   "execution_count": null,
   "metadata": {
    "collapsed": true
   },
   "outputs": [],
   "source": []
  },
  {
   "cell_type": "code",
   "execution_count": null,
   "metadata": {
    "collapsed": true
   },
   "outputs": [],
   "source": []
  }
 ],
 "metadata": {
  "kernelspec": {
   "display_name": "Python 2",
   "language": "python",
   "name": "python2"
  },
  "language_info": {
   "codemirror_mode": {
    "name": "ipython",
    "version": 2
   },
   "file_extension": ".py",
   "mimetype": "text/x-python",
   "name": "python",
   "nbconvert_exporter": "python",
   "pygments_lexer": "ipython2",
   "version": "2.7.12"
  }
 },
 "nbformat": 4,
 "nbformat_minor": 2
}
