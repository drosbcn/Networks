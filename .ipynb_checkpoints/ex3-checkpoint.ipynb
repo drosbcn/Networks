{
 "cells": [
  {
   "cell_type": "markdown",
   "metadata": {},
   "source": [
    "#### Eigenvalue Centrality"
   ]
  },
  {
   "cell_type": "code",
   "execution_count": 339,
   "metadata": {
    "collapsed": false
   },
   "outputs": [
    {
     "data": {
      "text/plain": [
       "{'A': -0.0014452322990098632,\n",
       " 'B': -0.2636115573515258,\n",
       " 'C': -0.26305935251057544,\n",
       " 'D': -0.30298010945305931,\n",
       " 'E': -0.26305935251057544,\n",
       " 'F': -0.26305935251057538}"
      ]
     },
     "execution_count": 339,
     "metadata": {},
     "output_type": "execute_result"
    }
   ],
   "source": [
    "import numpy as np\n",
    "\n",
    "#define adjecency matrix\n",
    "A = [[0,1,0,0,0,0],[1,0,0,1,0,0],[0,0,0,1,0,0],[0,1,1,0,1,1],[0,0,0,1,0,0],[0,0,0,1,0,0]]\n",
    "\n",
    "graph = { \"A\":[\"B\"],\n",
    "          \"B\":[\"A\",\"D\"],\n",
    "          \"C\":[\"D\"],\n",
    "          \"D\":[\"B,C,E,F\"],\n",
    "          \"E\":[\"D\"],\n",
    "          \"F\":[\"D\"],\n",
    "        }\n",
    "\n",
    "#convert to mumpy array, calculate it's eigenvectors and eignevalues\n",
    "A = np.matrix(A)\n",
    "lam = np.linalg.eig(A)\n",
    "\n",
    "#find max eigenvalue and it's corresponding vecotor\n",
    "eigenvalue = lam[0].max()\n",
    "eigenvector = lam[1][0] #results not ordered, 1st is only all-positive\n",
    "\n",
    "#turn matrix into an array\n",
    "C = np.squeeze(np.asarray(eigenvector))\n",
    "index = [\"A\",\"B\",\"C\",\"D\",\"E\",\"F\"] #index the nodes of the matrix\n",
    "C = dict(zip(index,C))\n",
    "\n",
    "#We can see that some of the centrality values are 0, and in order to improve on that we can use Katz centrality. \n",
    "beta = 0.2\n",
    "alpha = 1/eigenvalue - 0.1\n",
    "\n",
    "#C_katz = beta *(I - alpha*A.T)^-1 * 1\n",
    "C_katz = (beta * np.linalg.inv(np.identity(6) - alpha * np.transpose(A) * D)).dot(np.ones(6)) \n",
    "C_katz = np.squeeze(np.asarray(C_katz))\n",
    "C_katz = dict(zip(index,C_katz))\n",
    "C_katz\n",
    "##D is still most central node, followed by B, the single-connected C,E,F and A as least central\n",
    "#This measures centrality more accuratly"
   ]
  },
  {
   "cell_type": "markdown",
   "metadata": {},
   "source": [
    "#### Pagerank"
   ]
  },
  {
   "cell_type": "code",
   "execution_count": 340,
   "metadata": {
    "collapsed": false
   },
   "outputs": [
    {
     "data": {
      "text/plain": [
       "{'A': 0.56536135916031816,\n",
       " 'B': 0.478112466525697,\n",
       " 'C': 0.74020756364398432,\n",
       " 'D': 0.35345824649225055,\n",
       " 'E': 0.74020756364398443,\n",
       " 'F': 0.74020756364398432}"
      ]
     },
     "execution_count": 340,
     "metadata": {},
     "output_type": "execute_result"
    }
   ],
   "source": [
    "a = np.asarray([1,2,1,4,1,1])\n",
    "D = np.zeros((6, 6), int)\n",
    "np.fill_diagonal(D, a)\n",
    "\n",
    "C_pagerank = (beta * np.linalg.inv((np.identity(6) - alpha * np.transpose(A)).dot(D))).dot(np.ones(6))\n",
    "\n",
    "C_pagerank = np.squeeze(np.asarray(C_pagerank))\n",
    "C_pagerank = dict(zip(index,C_pagerank))\n",
    "C_pagerank"
   ]
  },
  {
   "cell_type": "markdown",
   "metadata": {},
   "source": [
    "This produces some interesting results, indicating that E,F and C has similar centralities (as expected),\n",
    "however node D has smallest centralities, as we specified that it has 4 outgoing links this might've had an effect. \n",
    "This raises an issue of working with non-directional graphs."
   ]
  },
  {
   "cell_type": "code",
   "execution_count": 341,
   "metadata": {
    "collapsed": true
   },
   "outputs": [],
   "source": [
    "#http://www.python-course.eu/graphs_python.php"
   ]
  },
  {
   "cell_type": "markdown",
   "metadata": {},
   "source": [
    "The information about the distance allows us to measure betweenety as a \n",
    "centrality measure, identifying most \"in-between\" node as an optimum node for the office."
   ]
  },
  {
   "cell_type": "code",
   "execution_count": 343,
   "metadata": {
    "collapsed": false
   },
   "outputs": [
    {
     "data": {
      "text/plain": [
       "matrix([[ 0, 14, 50, 26, 43, 41],\n",
       "        [14,  0, 36, 12, 29, 27],\n",
       "        [50, 36,  0, 24, 41, 39],\n",
       "        [26, 12, 24,  0, 17, 15],\n",
       "        [43, 29, 41, 17,  0, 32],\n",
       "        [41, 27, 39, 15, 32,  0]])"
      ]
     },
     "execution_count": 343,
     "metadata": {},
     "output_type": "execute_result"
    }
   ],
   "source": [
    "#we design matrix G, which will indicate the distance to every other node based on the network graph\n",
    "G = [[0,14,50,26,43,41],[14,0,36,12,29,27],[50,36,0,24,41,39],[26,12,24,0,17,15],[43,29,41,17,0,32],[41,27,39,15,32,0]]\n",
    "G = np.matrix(G)\n",
    "G"
   ]
  },
  {
   "cell_type": "markdown",
   "metadata": {},
   "source": [
    "#### Closeness Centrality"
   ]
  },
  {
   "cell_type": "code",
   "execution_count": 345,
   "metadata": {
    "collapsed": false
   },
   "outputs": [
    {
     "name": "stdout",
     "output_type": "stream",
     "text": [
      "{'A': 0.47126436781609193, 'E': 0.50617283950617287, 'F': 0.53246753246753242, 'B': 0.69491525423728817, 'D': 0.87234042553191493, 'C': 0.43157894736842106}\n"
     ]
    },
    {
     "data": {
      "text/plain": [
       "{'A': 2, 'B': 5, 'C': 1, 'D': 6, 'E': 3, 'F': 4}"
      ]
     },
     "execution_count": 345,
     "metadata": {},
     "output_type": "execute_result"
    }
   ],
   "source": [
    "import pandas as pd\n",
    "\n",
    "C_C = 82/G.sum(axis=1)\n",
    "C_C_df = pd.DataFrame(C_C)\n",
    "\n",
    "#turn to dict\n",
    "C_C = np.squeeze(np.asarray(C_C_df))\n",
    "C_C = dict(zip(index,C_C))\n",
    "print(C_C)\n",
    "\n",
    "\n",
    "#ranking order, in reverse order?\n",
    "ab = C_C_df.rank().values\n",
    "c = []\n",
    "for i in range(6):\n",
    "    c.append(int(ab[i][0]))\n",
    "dict(zip(index,c))\n",
    "\n"
   ]
  },
  {
   "cell_type": "markdown",
   "metadata": {},
   "source": [
    "From this centrality measurment we can determine that D is the optimal centrality, \n",
    "followed by B with the rest of nodes having roughly the same values\n",
    "##### Population\n",
    "\n",
    "Given the population, intuitevly node B would be optimal, as if consider clustering the neighbours,\n",
    "cluster on the left is valued at 90k, and right cluster valued at 29k\n",
    "\n",
    "In order to have final conclusion, we should consider both, the population and the distance, \n",
    "by incorporating it into the calulations. "
   ]
  },
  {
   "cell_type": "code",
   "execution_count": 349,
   "metadata": {
    "collapsed": false
   },
   "outputs": [
    {
     "data": {
      "text/plain": [
       "{'A': 0.28745725445163312,\n",
       " 'B': 0.11444670486647687,\n",
       " 'C': 0.11572632331832812,\n",
       " 'D': 0.063360811791216096,\n",
       " 'E': 0.12350410109610591,\n",
       " 'F': 0.10794854554055033}"
      ]
     },
     "execution_count": 349,
     "metadata": {},
     "output_type": "execute_result"
    }
   ],
   "source": [
    "population = {\"A\":90000,\"B\":10000,\"C\":8500,\"D\":15000,\"E\":1200,\"F\":5000}\n",
    "\n",
    "pop = np.asarray([90000,10000,8500,15000,12000,5000])\n",
    "#normalize\n",
    "pop = pop/max(pop)\n",
    "P = np.zeros((6,6), int)\n",
    "np.fill_diagonal(P,pop)\n",
    "\n",
    "#Weight the pagerank centrality by population.\n",
    "C_pop_df = (beta * np.linalg.inv((np.identity(6) - alpha * np.transpose(A)).dot(D))).dot(pop)\n",
    "#convert to dict\n",
    "C_pop = np.squeeze(np.asarray(C_pop_df))\n",
    "C_pop = dict(zip(index,C_pop))\n",
    "C_pop\n"
   ]
  },
  {
   "cell_type": "markdown",
   "metadata": {},
   "source": [
    "This indicates the heaviest weight on node A, as previously expected. However, the range of the values is smaller \n",
    "then for centrality measure, indicating that they can't be weghted correspondingly , therefore using\n",
    "appropriate constatnt to standardize the values."
   ]
  },
  {
   "cell_type": "markdown",
   "metadata": {},
   "source": [
    "Depending on the circumstances such as cost of travel, frequency of calls, average number of specialists, ect,\n",
    "we can use this formula to determine the optimum location of the office, by contributing a significance factor \n",
    "which sums up to 1. \n",
    "\n",
    "In our example we contribute 50/50 proportion of significance to both factors"
   ]
  },
  {
   "cell_type": "code",
   "execution_count": 372,
   "metadata": {
    "collapsed": false
   },
   "outputs": [
    {
     "data": {
      "text/plain": [
       "matrix([[ 0.68478414],\n",
       "        [ 0.5262806 ],\n",
       "        [ 0.39661185],\n",
       "        [ 0.53517148],\n",
       "        [ 0.44606158],\n",
       "        [ 0.43490337]])"
      ]
     },
     "execution_count": 372,
     "metadata": {},
     "output_type": "execute_result"
    }
   ],
   "source": [
    "const = 0.32 \n",
    "\n",
    "a = 0.5 #distance factor\n",
    "b = 0.5 #population factor\n",
    "\n",
    "C_C_df = np.matrix(C_C_df)\n",
    "C_opt = a * C_C_df + np.transpose(b * C_pop_df/ const)\n",
    "C_opt"
   ]
  },
  {
   "cell_type": "markdown",
   "metadata": {},
   "source": [
    "To conclude with, node A seems most appropriate for the office, despite node D being most connected. This conclusion is reached after considering distance to and population of each city, giving first preference to A and second to D. \n",
    "\n",
    "As pointed up above, by adjusting the factors significance, optimal decision could be found. "
   ]
  }
 ],
 "metadata": {
  "anaconda-cloud": {},
  "kernelspec": {
   "display_name": "Python [default]",
   "language": "python",
   "name": "python3"
  },
  "language_info": {
   "codemirror_mode": {
    "name": "ipython",
    "version": 3
   },
   "file_extension": ".py",
   "mimetype": "text/x-python",
   "name": "python",
   "nbconvert_exporter": "python",
   "pygments_lexer": "ipython3",
   "version": "3.5.2"
  }
 },
 "nbformat": 4,
 "nbformat_minor": 1
}
