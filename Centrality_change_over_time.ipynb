{
 "cells": [
  {
   "cell_type": "code",
   "execution_count": null,
   "metadata": {
    "collapsed": true
   },
   "outputs": [],
   "source": [
    "import pandas as pd\n",
    "import numpy as np\n",
    "import matplotlib.pyplot as plt\n",
    "import networkx as nx\n",
    "from graphviz import Digraph"
   ]
  },
  {
   "cell_type": "code",
   "execution_count": null,
   "metadata": {
    "collapsed": true
   },
   "outputs": [],
   "source": [
    "years = [1995, 2000, 2005, 2011]\n",
    "tops = pd.DataFrame(index = np.arange(0,10))\n",
    "for year in years:\n",
    "    input_output = pd.read_csv(\"ICIO_data/ICIO2016_\" + str(year) + \".csv\", index_col = [0,1], header = [0,1])\n",
    "    input_output = normalize(input_output)\n",
    "    outdegree = pd.DataFrame(np.sum(input_output, axis = 1).sort_values(ascending = False).head(10).index)\n",
    "    tops = pd.concat([tops, outdegree], axis=1, join_axes=[tops.index])\n",
    "tops.columns = [\"1995\", \"2000\", \"2005\", \"2011\"]\n",
    "tops"
   ]
  },
  {
   "cell_type": "code",
   "execution_count": null,
   "metadata": {
    "collapsed": true
   },
   "outputs": [],
   "source": [
    "input_output = pd.read_csv(\"ICIO_data/ICIO2016_1995.csv\", index_col = [0,1], header = [0,1])\n",
    "input_output = normalize(input_output)\n",
    "outdegree_1995 = np.sum(input_output, axis = 1)\n",
    "\n",
    "\n",
    "plt.hist(outdegree_1995, bins = 100)\n",
    "plt.title(\"Weighted outdegree distribution: 1995\")\n",
    "plt.savefig(\"outdegree_1995.png\")\n",
    "plt.close()\n",
    "\n",
    "input_output = pd.read_csv(\"ICIO_data/ICIO2016_2000.csv\", index_col = [0,1], header = [0,1])\n",
    "input_output = normalize(input_output)\n",
    "outdegree_2000 = np.sum(input_output, axis = 1)\n",
    "\n",
    "plt.hist(outdegree_2000, bins = 100)\n",
    "plt.title(\"Weighted outdegree distribution: 2000\")\n",
    "plt.savefig(\"outdegree_2000.png\")\n",
    "plt.close()\n",
    "\n",
    "input_output = pd.read_csv(\"ICIO_data/ICIO2016_2005.csv\", index_col = [0,1], header = [0,1])\n",
    "input_output = normalize(input_output)\n",
    "outdegree_2005 = np.sum(input_output, axis = 1)\n",
    "\n",
    "plt.hist(outdegree_2005, bins = 100)\n",
    "plt.title(\"Weighted outdegree distribution: 2005\")\n",
    "plt.savefig(\"outdegree_2005.png\")\n",
    "plt.close()\n",
    "\n",
    "input_output = pd.read_csv(\"ICIO_data/ICIO2016_2011.csv\", index_col = [0,1], header = [0,1])\n",
    "input_output = normalize(input_output)\n",
    "outdegree_2011 = np.sum(input_output, axis = 1)\n",
    "\n",
    "plt.hist(outdegree_2011, bins = 100)\n",
    "plt.title(\"Weighted outdegree distribution: 2011\")\n",
    "plt.savefig(\"outdegree_2011.png\")\n",
    "plt.close()"
   ]
  }
 ],
 "metadata": {
  "kernelspec": {
   "display_name": "Python 2",
   "language": "python",
   "name": "python2"
  },
  "language_info": {
   "codemirror_mode": {
    "name": "ipython",
    "version": 2
   },
   "file_extension": ".py",
   "mimetype": "text/x-python",
   "name": "python",
   "nbconvert_exporter": "python",
   "pygments_lexer": "ipython2",
   "version": "2.7.12"
  }
 },
 "nbformat": 4,
 "nbformat_minor": 2
}
