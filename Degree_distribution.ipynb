{
 "cells": [
  {
   "cell_type": "code",
   "execution_count": null,
   "metadata": {
    "collapsed": true
   },
   "outputs": [],
   "source": [
    "import pandas as pd\n",
    "import numpy as np\n",
    "import matplotlib.pyplot as plt\n",
    "import networkx as nx\n",
    "from graphviz import Digraph\n",
    "\n",
    "file = \"ICIO_data/ICIO2016_2011.csv\" \n",
    "\n",
    "input_output = pd.read_csv(\"ICIO_data/ICIO2016_2011.csv\", index_col = [0,1], header = [0,1])\n",
    "\n",
    "def normalize(df):\n",
    "    result = df.copy()\n",
    "    for feature_name in df.columns:\n",
    "        total = df[feature_name].sum()\n",
    "        if total == 0:\n",
    "            result = result.drop(feature_name,1)\n",
    "            result = result.drop(feature_name,0)\n",
    "        else: \n",
    "            result[feature_name] = df[feature_name] / total\n",
    "    return result \n",
    "\n",
    "input_output_norm = normalize(input_output)\n",
    "input_output_norm[input_output_norm<0.05] = 0\n",
    "\n",
    "input_output_matrix = input_output_norm.as_matrix()\n",
    "G = nx.from_numpy_matrix(input_output_matrix)"
   ]
  },
  {
   "cell_type": "code",
   "execution_count": null,
   "metadata": {
    "collapsed": true
   },
   "outputs": [],
   "source": [
    "#degree distribution\n",
    "\n",
    "\n",
    "degree_sequence=sorted(nx.degree(G).values(),reverse=True) # degree sequence\n",
    "#print \"Degree sequence\", degree_sequence\n",
    "dmax=max(degree_sequence)\n",
    "\n",
    "plt.figure(figsize = (120,120))\n",
    "plt.loglog(degree_sequence,'b-',marker='o')\n",
    "plt.title(\"Degree rank plot\")\n",
    "plt.ylabel(\"degree\")\n",
    "plt.xlabel(\"rank\")\n",
    "\n",
    "# draw graph in inset\n",
    "plt.axes([0.45,0.45,0.45,0.45])\n",
    "Gcc=sorted(nx.connected_component_subgraphs(G), key = len, reverse=True)[0]\n",
    "pos=nx.spring_layout(Gcc)\n",
    "plt.axis('off')\n",
    "nx.draw_networkx_nodes(Gcc,pos,node_size=20)\n",
    "nx.draw_networkx_edges(Gcc,pos,alpha=0.4)\n",
    "\n",
    "plt.savefig(\"degree_histogram.png\")\n",
    "plt.show()"
   ]
  }
 ],
 "metadata": {
  "kernelspec": {
   "display_name": "Python 2",
   "language": "python",
   "name": "python2"
  },
  "language_info": {
   "codemirror_mode": {
    "name": "ipython",
    "version": 2
   },
   "file_extension": ".py",
   "mimetype": "text/x-python",
   "name": "python",
   "nbconvert_exporter": "python",
   "pygments_lexer": "ipython2",
   "version": "2.7.12"
  }
 },
 "nbformat": 4,
 "nbformat_minor": 2
}
