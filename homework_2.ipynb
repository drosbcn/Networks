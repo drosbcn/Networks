{
 "cells": [
  {
   "cell_type": "markdown",
   "metadata": {},
   "source": [
    "# Social and Economic Networks | problem set 2"
   ]
  },
  {
   "cell_type": "markdown",
   "metadata": {},
   "source": [
    "## Problem 1"
   ]
  },
  {
   "cell_type": "code",
   "execution_count": null,
   "metadata": {
    "collapsed": true
   },
   "outputs": [],
   "source": []
  },
  {
   "cell_type": "markdown",
   "metadata": {},
   "source": [
    "## Questions About Community Detection  "
   ]
  },
  {
   "cell_type": "markdown",
   "metadata": {},
   "source": [
    "#### A"
   ]
  },
  {
   "cell_type": "markdown",
   "metadata": {
    "collapsed": true
   },
   "source": [
    "Newman and Girvan introduced 'modularity' as a method by which the quality of a partition can be measured in community detection of networks. In \"Resolution limit in community detection\" Fortunato and Barthelemy (2008) point out that while Newman and Girvan's method of modularity led to important advances in community detection, the acutal properties of modularity have not been thoroughly investigated. $^1$ They demonstrate how communities defined by modularity have limitations; specifically, they show both theoretically and experimentally that modularity has an inherent scale that depends on the degree of interconnctedness between pairs of communities within a network structure. When modules are smaller than this scale they cannot be “resolved.” In other words, regardless of the size of a network, through modularity optimization one cannot know if a module is a single module or a cluster of smaller modules. Important substructures can be lossed while finding the maximal modularity. \n",
    "\n",
    "Berry et al.(2011) in \"Tolerating the community detection resolution limit with edge weighting\" go on to reexamine   Fortunato and Barthelemy's analysis on the resolution limit of modularity and show that by adding weights to the edges of the network one can improve the accuracy for detecting communities in real networks. In exploring the resolution limit from the context of edge weighting, Berry et el. offer an alternative inequality that defines a module that takes into account the sum of weights. While this inequality still has resolution limits, it is able to account for greater detection of substructures. Further, Berry et al. go on to delineate how some community detection algorithms can account for maximum weighted modularity. \n",
    "\n",
    "1: Fortunato, Santo, and Marc Barthelemy. \"Resolution limit in community detection.\" Proceedings of the National Academy of Sciences 104.1 (2007): 36-41.\n",
    "\n",
    "2: Berry, Jonathan W., et al. \"Tolerating the community detection resolution limit with edge weighting.\" Physical Review E 83.5 (2011): 056119."
   ]
  },
  {
   "cell_type": "markdown",
   "metadata": {},
   "source": [
    "#### B"
   ]
  },
  {
   "cell_type": "markdown",
   "metadata": {},
   "source": [
    "\n",
    "\n",
    "\n",
    "\n",
    "\n",
    "1: Yang, Jaewon, and Jure Leskovec. \"Defining and evaluating network communities based on ground-truth.\" Knowledge and Information Systems 42.1 (2015): 181-213."
   ]
  },
  {
   "cell_type": "markdown",
   "metadata": {},
   "source": [
    "#### C"
   ]
  },
  {
   "cell_type": "markdown",
   "metadata": {
    "collapsed": true
   },
   "source": [
    "Fortunato and Barthelemy (2008) illustrate their theoretical discussion in \"Resolution limit in community detection\" with five examples of networks taken from [the following repository](http://www.weizmann.ac.il/mcb/UriAlon/download/collection-complex-networks). In addition to the five network data used to detect communities (the transcriptional regulation network of Saccharomyces\n",
    "cerevisiae (yeast); Escherichia coli; a network of electronic circuits; a social network; and the neural network of Caenorhabditis Elegans), the repository also contains other data the structure of which is a list of the edges in the network: the first column being the source of the edge and the second column being the target of the edge.\n",
    "\n",
    "Yang et al. \"Defining and evaluating network communities based on ground-truth\" included data from [Defense Advanced Research Projects Agency's (DARPA)](https://opencatalog.darpa.mil/) open data catalogue. They also used social network data from  Mislove et al.'s \"Measurement and analysis of online social\n",
    "networks.\" [This data](http://socialnetworks.mpi-sws.org/datasets.html) was gathered from four popular online social networks: Flickr, YouTube, LiveJournal, and Orkut and contains over 11.3 million users and 328 million links. \n",
    "\n",
    "Berry et al.(2011) in \"Tolerating the community detection resolution limit with edge weighting\" use two different datasets: the ring of cliques and the 128-node benchmark data used by Lancichinetti et al. in \"Benchmark graphs for testing community detection algorithms—both of which are simulated so as to run experiments. A ring of cliques graph consists of cliques (i.e. modules) connected through single links. Each clique represents a complete graph. The 128-node benchmark data is a simple artificial graph with a built-in community structure that tries to reflect the real properties of nodes and communities found in real networks. An algorithm is then set to recover this structure.  \n",
    "\n",
    "Other repositories of complex network data include: \n",
    "- http://www.chesapeakebay.net/data\n",
    "- https://journals.aps.org/pre/abstract/10.1103/PhysRevE.90.012811\n",
    "- http://snap.stanford.edu/data/index.html#communities\n",
    "- http://www-personal.umich.edu/~mejn/netdata/\n",
    "- http://www.linkgroup.hu/links.php#Networkdatasets\n",
    "- http://www.princeton.edu/~ina/data/index.html\n",
    "- https://github.com/caesar0301/awesome-public-datasets"
   ]
  },
  {
   "cell_type": "markdown",
   "metadata": {},
   "source": [
    "## Exercise 1 "
   ]
  },
  {
   "cell_type": "markdown",
   "metadata": {},
   "source": [
    "#### A"
   ]
  },
  {
   "cell_type": "code",
   "execution_count": null,
   "metadata": {
    "collapsed": true
   },
   "outputs": [],
   "source": []
  },
  {
   "cell_type": "markdown",
   "metadata": {},
   "source": [
    "#### B"
   ]
  },
  {
   "cell_type": "code",
   "execution_count": null,
   "metadata": {
    "collapsed": true
   },
   "outputs": [],
   "source": []
  },
  {
   "cell_type": "markdown",
   "metadata": {},
   "source": [
    "## Exercise 2 "
   ]
  },
  {
   "cell_type": "markdown",
   "metadata": {},
   "source": [
    "#### A"
   ]
  },
  {
   "cell_type": "code",
   "execution_count": null,
   "metadata": {
    "collapsed": true
   },
   "outputs": [],
   "source": []
  },
  {
   "cell_type": "markdown",
   "metadata": {},
   "source": [
    "#### B "
   ]
  },
  {
   "cell_type": "code",
   "execution_count": null,
   "metadata": {
    "collapsed": true
   },
   "outputs": [],
   "source": []
  },
  {
   "cell_type": "markdown",
   "metadata": {},
   "source": [
    "## Exercise 3 "
   ]
  },
  {
   "cell_type": "code",
   "execution_count": null,
   "metadata": {
    "collapsed": true
   },
   "outputs": [],
   "source": []
  }
 ],
 "metadata": {
  "kernelspec": {
   "display_name": "Python 3",
   "language": "python",
   "name": "python3"
  },
  "language_info": {
   "codemirror_mode": {
    "name": "ipython",
    "version": 3
   },
   "file_extension": ".py",
   "mimetype": "text/x-python",
   "name": "python",
   "nbconvert_exporter": "python",
   "pygments_lexer": "ipython3",
   "version": "3.6.0"
  }
 },
 "nbformat": 4,
 "nbformat_minor": 2
}
