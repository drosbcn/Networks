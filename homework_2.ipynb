{
 "cells": [
  {
   "cell_type": "markdown",
   "metadata": {},
   "source": [
    "# Social and Economic Networks | problem set 2"
   ]
  },
  {
   "cell_type": "markdown",
   "metadata": {},
   "source": [
    "## Problem 1"
   ]
  },
  {
   "cell_type": "markdown",
   "metadata": {
    "collapsed": true
   },
   "source": [
    "We now have a local coordination game where when node $i$ chooses either A or B, it gets the respective utilities:\n",
    "$$u_i^A = \\alpha + d_i^Aa$$\n",
    "$$u_i^B = \\beta + d_i^Bb$$\n",
    "where $\\alpha$ and $\\beta$ are constant and non-negative, and $d_i^C$ is the number of neighbours of $i$ that choose C.\n",
    "\n",
    "The parameters $\\alpha$ and $\\beta$ give the minimum utility that node $i$ will obtain when choosing A and B respectively (that is, for example if node $i$ chooses A but no neighbour chooses A, it will have utility of at lease $\\alpha$).\n",
    "\n",
    "To find the best reply, we note that node $i$ will choose A if the utility from choosing A is higher than the utility from choosing B:\n",
    "$$u_i^A \\geq u_i^B$$\n",
    "$$\\alpha + d_i^Aa \\geq \\beta + d_i^Bb$$\n",
    "We divide each side by the total number of neighbours of $i$, $d_i = d_i^A + d_i^B$, and define $f_A = \\frac{d_i^A}{d_i}$, and $f_B = \\frac{d_i^B}{d_i}$:\n",
    "$$\\frac{\\alpha}{d_i} + f_Aa \\geq \\frac{\\beta}{d_i} + f_Bb$$\n",
    "Since $f_B = 1 - f_A$:\n",
    "$$f_A - (1 - f_A)b \\geq \\frac{\\beta - \\alpha}{d_i}$$\n",
    "$$f_A(a + b) \\geq \\frac{\\beta - \\alpha}{d_i} + b$$\n",
    "$$f_A \\geq \\frac{\\beta - \\alpha}{d_i(a + b)} + \\frac{b}{a + b}$$\n",
    "\n",
    "So node $i$ would choose A  based on two factors:\n",
    "* The relative payoff obtained if the neighbours choose the same as $i$, captured by whether the share $f_A$ is greater or equal to $\\frac{b}{b + a}$.\n",
    "* A fixed term $\\frac{\\beta - \\alpha}{d_i(a + b)}$, which depends on the relative fixed payoffs from $\\alpha$ and $\\beta$, adjusted by the number of neighbours $d_i$ times the sum of the payoffs per neighbour $a + b$. This tells us that $i$ will depend negatively on how high its minimum utility from choosing B is relative to its minimum utility from choosing A. The importance of this factor, however, is decreasing in the number of neighbours and in the payoff from each neighbour which chooses the same as $i$."
   ]
  },
  {
   "cell_type": "markdown",
   "metadata": {},
   "source": [
    "## Questions About Community Detection  "
   ]
  },
  {
   "cell_type": "markdown",
   "metadata": {},
   "source": [
    "#### A"
   ]
  },
  {
   "cell_type": "code",
   "execution_count": null,
   "metadata": {
    "collapsed": true
   },
   "outputs": [],
   "source": []
  },
  {
   "cell_type": "markdown",
   "metadata": {},
   "source": [
    "#### B"
   ]
  },
  {
   "cell_type": "code",
   "execution_count": null,
   "metadata": {
    "collapsed": true
   },
   "outputs": [],
   "source": []
  },
  {
   "cell_type": "markdown",
   "metadata": {},
   "source": [
    "#### C"
   ]
  },
  {
   "cell_type": "markdown",
   "metadata": {
    "collapsed": true
   },
   "source": [
    "#### WILL WRITE SOMETHING MORE, but in the meantime:\n",
    "- https://journals.aps.org/pre/abstract/10.1103/PhysRevE.90.012811\n",
    "- http://snap.stanford.edu/data/index.html#communities\n",
    "- http://www-personal.umich.edu/~mejn/netdata/\n",
    "- http://www.linkgroup.hu/links.php#Networkdatasets\n",
    "- http://www.princeton.edu/~ina/data/index.html\n",
    "- https://github.com/caesar0301/awesome-public-datasets"
   ]
  },
  {
   "cell_type": "markdown",
   "metadata": {},
   "source": [
    "## Exercise 1 "
   ]
  },
  {
   "cell_type": "markdown",
   "metadata": {},
   "source": [
    "#### A"
   ]
  },
  {
   "cell_type": "code",
   "execution_count": 11,
   "metadata": {
    "collapsed": false,
    "scrolled": true
   },
   "outputs": [],
   "source": []
  },
  {
   "cell_type": "code",
   "execution_count": null,
   "metadata": {
    "collapsed": true
   },
   "outputs": [],
   "source": []
  },
  {
   "cell_type": "markdown",
   "metadata": {},
   "source": [
    "#### B"
   ]
  },
  {
   "cell_type": "code",
   "execution_count": null,
   "metadata": {
    "collapsed": true
   },
   "outputs": [],
   "source": []
  },
  {
   "cell_type": "markdown",
   "metadata": {},
   "source": [
    "## Exercise 2 "
   ]
  },
  {
   "cell_type": "markdown",
   "metadata": {},
   "source": [
    "#### A"
   ]
  },
  {
   "cell_type": "code",
   "execution_count": null,
   "metadata": {
    "collapsed": true
   },
   "outputs": [],
   "source": []
  },
  {
   "cell_type": "markdown",
   "metadata": {},
   "source": [
    "#### B "
   ]
  },
  {
   "cell_type": "code",
   "execution_count": null,
   "metadata": {
    "collapsed": true
   },
   "outputs": [],
   "source": []
  },
  {
   "cell_type": "markdown",
   "metadata": {},
   "source": [
    "## Exercise 3 "
   ]
  },
  {
   "cell_type": "code",
   "execution_count": null,
   "metadata": {
    "collapsed": true
   },
   "outputs": [],
   "source": []
  }
 ],
 "metadata": {
  "anaconda-cloud": {},
  "kernelspec": {
   "display_name": "Python [default]",
   "language": "python",
   "name": "python3"
  },
  "language_info": {
   "codemirror_mode": {
    "name": "ipython",
    "version": 3
   },
   "file_extension": ".py",
   "mimetype": "text/x-python",
   "name": "python",
   "nbconvert_exporter": "python",
   "pygments_lexer": "ipython3",
   "version": "3.5.2"
  }
 },
 "nbformat": 4,
 "nbformat_minor": 2
}
