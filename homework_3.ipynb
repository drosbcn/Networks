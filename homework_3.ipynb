{
 "cells": [
  {
   "cell_type": "markdown",
   "metadata": {},
   "source": [
    "# Social and Economic Networks | problem set 3"
   ]
  },
  {
   "cell_type": "markdown",
   "metadata": {},
   "source": [
    "### Problem 1\n"
   ]
  },
  {
   "cell_type": "markdown",
   "metadata": {},
   "source": [
    "#### A. \n"
   ]
  },
  {
   "cell_type": "markdown",
   "metadata": {},
   "source": [
    "#### B."
   ]
  },
  {
   "cell_type": "markdown",
   "metadata": {},
   "source": [
    "### Problem 2 "
   ]
  },
  {
   "cell_type": "markdown",
   "metadata": {},
   "source": [
    "#### 1.  \n",
    "\n",
    "a) In the general case of information cascades, even though individuals see the actions of previous players, individual 1 sees no previous action (because he is first to play) and individual 2 only sees the action of individual 1. In the case where individual $i$ sees only the action of individual $i-1$, this remains unchanged for individual 1 (who has no individual before him) and individual 2 (who still only sees the action of individual 1).\n",
    "\n",
    "b) Individual 3 can infer that if individual 2 accepts, then 2's signal was High, and if he rejects, it is because the signal was Low. This is because even though 3 does not see the action of 1, he knows that individual 2 will either:\n",
    "\n",
    "* See a signal consistent with the action of individual 1, in which case it means signals of 1 and 2 point in the same direction, and individual 2 goes with a majority vote.\n",
    "* See a signal different to individual 1, in which case there is a tie between Accept and Reject. In those cases, individual 2 breaks the tie by following his own signal.\n",
    "\n",
    "Either way, individual 3 knows that individual 2 takes an action consistent with his own signal.\n",
    "\n",
    "c) Individual 3 cannot infer anything about individual 1's signal, however. Since individual 2 takes an action consistent with his own signal, the behaviour of individual 1 (and the signal of individual 1) has no impact on the behaviour of 2. This is why individual 3 cannot infer anything about individual 1's signal.\n",
    "\n",
    "d) If 3 observes High and 2 Accepted, then 3 should also Accept. If 3's signal is Low and 2 Accepted, then there is a tie between Accept and Reject, which 3 will break by following his own signal, and will Reject. In other words, the behaviour (and signal) of 2 has no impact on the behaviour of 3.\n",
    "\n",
    "e) No cascade will form in this scenario because we can never get a critical mass of at least 2 actions going in the same direction (as far as subsequent players can tell). Each player only has 1 other player's action information, which is not enough to change his own actions. In this world, each individual follows his own signal and not information cascade is possible."
   ]
  },
  {
   "cell_type": "markdown",
   "metadata": {},
   "source": [
    "#### 4. \n",
    "\n",
    "In this problem, we have: \n",
    "\n",
    "* $P(true = G) = p = \\frac{1}{2}$\n",
    "* $P(true = B) = 1 - p = \\frac{1}{2}$\n",
    "* $P(signal = H | true = G) = q = \\frac{2}{3}$\n",
    "* $P(signal = H | true = B) = 1 - q = \\frac{1}{3}$\n",
    "* $P(signal = L | true = B) = q = \\frac{2}{3}$\n",
    "* $P(signal = L | true = G) = 1 - q = \\frac{1}{3}$\n",
    "\n",
    "a) An cascade will ocurr if the first two individuals choose the same action, which will ocurr if they observe the same action. The signals of the subsequent individuals, in this case, are irrelevant since all individiduals choose the same actions irrelevant of which signal their observe for themselves.\n",
    "\n",
    "As such, the probability of an incorrect cascade after 9 people, is the same as the probability of the true state being Good (G), given the first two signals being Low (L):\n",
    "\n",
    "$$P(true = G | L, L) = \\frac{P(G).P(L, L | true = G)}{P(L, L)}$$\n",
    "\n",
    "Where $P(L, L | true = G) = \\frac{1}{3}.\\frac{1}{3}.\\frac{1}{2} = \\frac{1}{18}$,\n",
    "$P(L, L) = \\frac{1}{4}$,\n",
    "and $P(true = G) = p = \\frac{1}{2}$\n",
    "\n",
    "$$P(true = G | L, L) = \\frac{\\frac{1}{2}.\\frac{1}{18}}{\\frac{1}{4}} = \\frac{1}{9}$$\n",
    "\n",
    "So the likelihood of being in an incorrect cascade is $\\frac{1}{9}$.\n",
    "\n",
    "b) If person 9 received a High signal, then we know for certain that there have been two Low signals (for persons 1 and 2), and one High signal (for person 9). Thus your decision depends on your own signal: if Low, we know there have been 3 Lows and one High, so on average Low dominates and we choose Reject. If High, then there is a tie (2 Lows and 2 Highs), and we break the tie by following our own signal, which is High.\n",
    "\n",
    "In summary, our choice depends on our own signal.\n",
    "\n",
    "c) If we choose R, it will be because we get a Low signal. Although person 11 does not know the signal of person 9, it is enough to know that persons 1 and 2 had Low signals, and person 10 as well. As such, there is a clear majority of Low, and even if person 11 gets a High signal, they will choose Reject.\n",
    "\n",
    "If we choose A, then it must necessarily be because both we (person 10) and person 9 got High signals, since this is the only way in which we could choose Accept. Person 11 can infer that, and so knows that there have for sure been 2 Low signals (persons 1 and 2) and 2 High signals (persons 9 and 10). His choice will thus depend on his own signal: A if they observe High, R if they observe L."
   ]
  },
  {
   "cell_type": "markdown",
   "metadata": {},
   "source": [
    "### Problem 3 "
   ]
  },
  {
   "cell_type": "markdown",
   "metadata": {},
   "source": [
    "####\n"
   ]
  }
 ],
 "metadata": {
  "anaconda-cloud": {},
  "kernelspec": {
   "display_name": "Python [default]",
   "language": "python",
   "name": "python3"
  },
  "language_info": {
   "codemirror_mode": {
    "name": "ipython",
    "version": 3
   },
   "file_extension": ".py",
   "mimetype": "text/x-python",
   "name": "python",
   "nbconvert_exporter": "python",
   "pygments_lexer": "ipython3",
   "version": "3.5.2"
  }
 },
 "nbformat": 4,
 "nbformat_minor": 2
}
