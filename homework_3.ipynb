{
 "cells": [
  {
   "cell_type": "markdown",
   "metadata": {},
   "source": [
    "# Social and Economic Networks | problem set 3"
   ]
  },
  {
   "cell_type": "markdown",
   "metadata": {},
   "source": [
    "### Problem 1\n"
   ]
  },
  {
   "cell_type": "markdown",
   "metadata": {},
   "source": [
    "#### A. \n"
   ]
  },
  {
   "cell_type": "markdown",
   "metadata": {},
   "source": [
    "#### B."
   ]
  },
  {
   "cell_type": "markdown",
   "metadata": {},
   "source": [
    "### Problem 2 "
   ]
  },
  {
   "cell_type": "markdown",
   "metadata": {},
   "source": [
    "#### 1.  \n",
    "\n",
    "a) In the general case of information cascades, even though individuals see the actions of previous players, individual 1 sees no previous action (because he is first to play) and individual 2 only sees the action of individual 1. In the case where individual $i$ sees only the action of individual $i-1$, this remains unchanged for individual 1 (who has no individual before him) and individual 2 (who still only sees the action of individual 1).\n",
    "\n",
    "b) Individual 3 can infer that if individual 2 accepts, then 2's signal was High, and if he rejects, it is because the signal was Low. This is because even though 3 does not see the action of 1, he knows that individual 2 will either:\n",
    "\n",
    "* See a signal consistent with the action of individual 1, in which case it means signals of 1 and 2 point in the same direction, and individual 2 goes with a majority vote.\n",
    "* See a signal different to individual 1, in which case there is a tie between Accept and Reject. In those cases, individual 2 breaks the tie by following his own signal.\n",
    "\n",
    "Either way, individual 3 knows that individual 2 takes an action consistent with his own signal.\n",
    "\n",
    "c) Individual 3 cannot infer anything about individual 1's signal, however. Since individual 2 takes an action consistent with his own signal, the behaviour of individual 1 (and the signal of individual 1) has no impact on the behaviour of 2. This is why individual 3 cannot infer anything about individual 1's signal.\n",
    "\n",
    "d) If 3 observes High and 2 Accepted, then 3 should also Accept. If 3's signal is Low and 2 Accepted, then there is a tie between Accept and Reject, which 3 will break by following his own signal, and will Reject. In other words, the behaviour (and signal) of 2 has no impact on the behaviour of 3.\n",
    "\n",
    "e) No cascade will form in this scenario because we can never get a critical mass of at least 2 actions going in the same direction (as far as subsequent players can tell). Each player only has 1 other player's action information, which is not enough to change his own actions. In this world, each individual follows his own signal and not information cascade is possible."
   ]
  },
  {
   "cell_type": "markdown",
   "metadata": {},
   "source": [
    "#### 4. "
   ]
  },
  {
   "cell_type": "markdown",
   "metadata": {},
   "source": [
    "### Problem 3 "
   ]
  },
  {
   "cell_type": "markdown",
   "metadata": {},
   "source": [
    "####\n"
   ]
  }
 ],
 "metadata": {
  "anaconda-cloud": {},
  "kernelspec": {
   "display_name": "Python [default]",
   "language": "python",
   "name": "python3"
  },
  "language_info": {
   "codemirror_mode": {
    "name": "ipython",
    "version": 3
   },
   "file_extension": ".py",
   "mimetype": "text/x-python",
   "name": "python",
   "nbconvert_exporter": "python",
   "pygments_lexer": "ipython3",
   "version": "3.5.2"
  }
 },
 "nbformat": 4,
 "nbformat_minor": 2
}
