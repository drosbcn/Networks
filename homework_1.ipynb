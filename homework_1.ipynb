{
 "cells": [
  {
   "cell_type": "markdown",
   "metadata": {},
   "source": [
    "# Social and Economic Networks | problem set 1"
   ]
  },
  {
   "cell_type": "markdown",
   "metadata": {},
   "source": [
    "## Problems from Barabasi (Ch 2)"
   ]
  },
  {
   "cell_type": "markdown",
   "metadata": {},
   "source": [
    "### Matrix formalism\n",
    "\n",
    "Let A be the $NxN$ adjacency matrix of an undirected unweighted network, without self-loops. Let $\\mathbb{1}$ be a column vector of N elements, all equal to 1. In other words $\\mathbb{1} = (1, 1, ..., 1)^T$ , where the superscript T indicates the transpose operation.\n",
    "\n",
    "* We can obtain the vector $k$ whose elements are the degrees $k_i$ of all nodes $i = 1, 2,..., N$ by multiplying the matrix A by $\\mathbb{1}$ as follows: $k = A\\mathbb{1}$.\n",
    "* The total number of links in the network can be obtained by pre-multiplying the column vector k by the transpose of the column vector $\\mathbb{1}$ and dividing it by 2 (since each link will be counted twice otherwise): $L = \\frac{1}{2}\\mathbb{1}k$.\n",
    "* The number of triangles T can be obtain by performing $A^3$, which gives us a matrix in which each cell $a_{ij}$ gives us the number of 3-edge paths from $i$ to $j$, and taking the $trace(A^3)$, since all the diagonal elements of $A^3$ give us the number of 3-edges paths from $i$ to $i$, in other words triangles.\n",
    "* The vector $k_nn$ whose element $i$ is the sum of the degrees of node $i$'s neighbors can be obtained by "
   ]
  },
  {
   "cell_type": "markdown",
   "metadata": {
    "collapsed": true
   },
   "source": [
    "## Problem from Easley and Kleinberg: Problem 6, Chapter 14"
   ]
  },
  {
   "cell_type": "markdown",
   "metadata": {},
   "source": [
    "#### a)\n",
    "Concept: The Hub-Authority algorithm is a network structure that models two types of nodes: directories (hubs) and \"expert\" sites (authorities). Each page has 2 scores: 1) the total sum of votes of authorites pointed to hub; and, 2) the total sum of votes coming from authorities.\n",
    "\n",
    "The 2-step hub-authority is computed by the following algorithm: \n",
    "* Step 1: Initialize by scoring every hub going to an authority with equal weight \n",
    "* Step 2: Apply Authority Update Rule: sum all of the Hub scores of pages that point to the authority\n",
    "* Step 3: Apply Hub Update Rule: update the hub score by summing all of the authority scores of all its linking pages\n",
    "* Step 4: Normalize\n",
    "\n",
    "To compute the 2-step hub-authority for the provided network in problem 6, we find each node has the following values:\n",
    "A1 = .33,  A2 = .33, A3 = .33, B1 = .33, B2 = .33, B3 = .33, C1 = .20, C2 = .20, C3 = .20, C4 = .20, C5 = .20, D = 1"
   ]
  },
  {
   "cell_type": "markdown",
   "metadata": {},
   "source": [
    "#### b)\n",
    "A k-step application of the Hub-Authority algorithm is when the Authority Update Rule is applied k times and then the Hub Update Rule.\n",
    "\n",
    "* $\\forall$ p, we update auth(p) to be the sum of:\n",
    "auth(p) = $\\sum_{i = 1}^n$ hub(i), k= 2\n",
    "    * auth(B1) = $\\sum_{i = 1}^{12}$ hub(1)=   \n",
    "    * auth(B2) = $\\sum_{i = 2}^{12}$ hub(2)=\n",
    "    * auth(B3) = $\\sum_{i = 3}^{12}$ hub(3)=  \n",
    "    * auth(D)  = $\\sum_{i = 4}^{12}$ hub(4)= \n",
    "* $\\forall$ p, we update hub(p) to be the sum of:\n",
    "hub(i) = $\\sum_{i = 1}^{12}$ auth(i)\n",
    "    * hub(A1)\n",
    "    * hub(A2)\n",
    "    * hub(A3)\n",
    "    * hub(C1)\n",
    "    * hub(C2)\n",
    "    * hub(C3)\n",
    "    * hub(C4)\n",
    "    * hub(C5)\n",
    "    "
   ]
  },
  {
   "cell_type": "markdown",
   "metadata": {},
   "source": [
    "#### c) \n",
    "As k goes to infinity the normalized values at each node will converge to a stable set of values and will remain fixed at the point of convergence. Because the hub and authority scores are proportional to each other, independent of what initial values with which you begin (provided they are positive), the approximate scores will reach an equilibrium (i.e. limit) over time. The Hub Authority ranking procedure provides an information retrieval system that takes into consideration both quality (weights based on endorsements) and quantity (weights based on the number of sites each hub/authority is pointing to and from). Thus, these scores are purely dependent on the link structure and as such sites can be powerful endorsers without themeslves being heavily endorsed. Said differently, a good hub is a page that points to many good authorities and a good authority is referenced by many hubs. "
   ]
  },
  {
   "cell_type": "markdown",
   "metadata": {},
   "source": [
    "## Problem 1\n"
   ]
  },
  {
   "cell_type": "markdown",
   "metadata": {},
   "source": [
    "### a)\n",
    "Degree and plot of network:\n",
    "![Degree and plot of network](network.jpg)\n"
   ]
  },
  {
   "cell_type": "markdown",
   "metadata": {},
   "source": [
    "### b)\n",
    "To find the clustering of each node, we consider its neighbor K(v): the degree  of the node and N(v): the number of links between its neighbors. Then we can compute CC(v) through the following formula $\\frac{2N(v)}{K(v)(K(v)-1)}$. Thus, \n",
    "* CC(1) = \n",
    "* CC(2)\n",
    "* CC(3)\n",
    "* CC(4)\n",
    "* CC(5)\n",
    "* CC(6)\n",
    "* CC(7)\n",
    "* CC(8)\n",
    "* CC(9)\n",
    "* CC(10)\n",
    "\n",
    "The average of CC(v) is:\n",
    "\n"
   ]
  },
  {
   "cell_type": "markdown",
   "metadata": {},
   "source": [
    "### c)"
   ]
  },
  {
   "cell_type": "markdown",
   "metadata": {},
   "source": [
    "## Problem 2"
   ]
  },
  {
   "cell_type": "markdown",
   "metadata": {},
   "source": [
    "## Problem 3"
   ]
  },
  {
   "cell_type": "code",
   "execution_count": null,
   "metadata": {
    "collapsed": true
   },
   "outputs": [],
   "source": []
  }
 ],
 "metadata": {
  "anaconda-cloud": {},
  "kernelspec": {
   "display_name": "Python 3",
   "language": "python",
   "name": "python3"
  },
  "language_info": {
   "codemirror_mode": {
    "name": "ipython",
    "version": 3
   },
   "file_extension": ".py",
   "mimetype": "text/x-python",
   "name": "python",
   "nbconvert_exporter": "python",
   "pygments_lexer": "ipython3",
   "version": "3.6.0"
  }
 },
 "nbformat": 4,
 "nbformat_minor": 1
}
