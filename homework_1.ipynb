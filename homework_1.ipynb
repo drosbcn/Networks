{
 "cells": [
  {
   "cell_type": "markdown",
   "metadata": {},
   "source": [
    "# Social and economic networks - problem set 1"
   ]
  },
  {
   "cell_type": "markdown",
   "metadata": {},
   "source": [
    "## Problems from Barabasi (Ch 2)"
   ]
  },
  {
   "cell_type": "markdown",
   "metadata": {},
   "source": [
    "### Matrix formalism\n",
    "\n",
    "Let A be the $NxN$ adjacency matrix of an undirected unweighted network, without self-loops. Let $\\mathbb{1}$ be a column vector of N elements, all equal to 1. In other words $\\mathbb{1} = (1, 1, ..., 1)^T$ , where the superscript T indicates the transpose operation.\n",
    "\n",
    "* We can obtain the vector $k$ whose elements are the degrees $k_i$ of all nodes $i = 1, 2,..., N$ by multiplying the matrix A by $\\mathbb{1}$ as follows: $k = A\\mathbb{1}$.\n",
    "* The total number of links in the network can be obtained by pre-multiplying the column vector k by the transpose of the column vector $\\mathbb{1}$ and dividing it by 2 (since each link will be counted twice otherwise): $L = \\frac{1}{2}\\mathbb{1}k$.\n",
    "* The number of triangles T can be obtain by performing $A^3$, which gives us a matrix in which each cell $a_{ij}$ gives us the number of 3-edge paths from $i$ to $j$, and taking the $trace(A^3)$, since all the diagonal elements of $A^3$ give us the number of 3-edges paths from $i$ to $i$, in other words triangles.\n",
    "* The vector $k_nn$ whose element $i$ is the sum of the degrees of node $i$'s neighbors can be obtained by "
   ]
  },
  {
   "cell_type": "code",
   "execution_count": null,
   "metadata": {
    "collapsed": true
   },
   "outputs": [],
   "source": []
  }
 ],
 "metadata": {
  "anaconda-cloud": {},
  "kernelspec": {
   "display_name": "Python [default]",
   "language": "python",
   "name": "python3"
  },
  "language_info": {
   "codemirror_mode": {
    "name": "ipython",
    "version": 3
   },
   "file_extension": ".py",
   "mimetype": "text/x-python",
   "name": "python",
   "nbconvert_exporter": "python",
   "pygments_lexer": "ipython3",
   "version": "3.5.2"
  }
 },
 "nbformat": 4,
 "nbformat_minor": 1
}
